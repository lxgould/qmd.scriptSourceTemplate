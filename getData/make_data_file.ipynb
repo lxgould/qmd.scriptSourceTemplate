{
  "cells": [
    {
      "cell_type": "raw",
      "metadata": {},
      "source": [
        "---\n",
        "title: \"Test_App_1 Schedule 1\"\n",
        "format: html\n",
        "---"
      ],
      "id": "52ed6cef"
    },
    {
      "cell_type": "markdown",
      "metadata": {},
      "source": [
        "This report shows the results of running scripts for the Test_App_1 app.\n",
        "\n",
        "## Header\n",
        "\n",
        "In this section we want to show parameter information from the operating system\n",
        "\n",
        "\n",
        "\n",
        "```{bash}\n",
        "ME=`basename $0 .sh`\n",
        "CL=\"`basename $0` ${@}\"\n",
        "CWD=`pwd`\n",
        "ME_START=`date +\"%Y%m%d_%T\"`\n",
        "\n",
        "printf \"\\n%-20s: %s\\n\" \"BEGIN PROGRAM\" `date`\n",
        "printf \"%s\\n\" \"-------------------------------------------\"\n",
        "printf \"%-20s: %s\\n\" \"Command Line\" \"${CL}\"\n",
        "printf \"%-20s: %s\\n\" \"Execute Command\" \"${EXEC_CL}\"\n",
        "printf \"%-20s: %s\\n\" \"Time\" \"$ME_START\"\n",
        "printf \"%-20s: %s\\n\" \"User\" \"$USER\"\n",
        "printf \"%-20s: %s\\n\" \"Shell\" \"$CURRENTSHELL\"\n",
        "printf \"%-20s: %s\\n\" \"Environment\" \"$CURRENT_ENV\"\n",
        "printf \"%-20s: %s\\n\" \"PWD\" \"$CWD\"\n",
        "printf \"%-20s: %s\\n\" \"Host\" `hostname -s | tr '[a-z]' '[A-Z]'`\n",
        "printf \"%-20s: %s\\n\" \"Log File\" $LOG\n",
        "\n",
        "printf \"%s\\n\" '------------------------------------'\n",
        "```"
      ],
      "id": "9b14d584"
    }
  ],
  "metadata": {
    "kernelspec": {
      "display_name": "Python 3",
      "language": "python",
      "name": "python3"
    }
  },
  "nbformat": 4,
  "nbformat_minor": 5
}